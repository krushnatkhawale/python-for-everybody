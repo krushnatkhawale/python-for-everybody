{
 "cells": [
  {
   "cell_type": "code",
   "execution_count": 73,
   "metadata": {},
   "outputs": [],
   "source": []
  },
  {
   "cell_type": "code",
   "execution_count": 89,
   "metadata": {},
   "outputs": [
    {
     "name": "stdout",
     "output_type": "stream",
     "text": [
      "</li><li>For last 20 days, only five categories of people were being tested</li></ul></div><b class=\"place_cont\">New Delhi: </b><p>The \"hotspots\" for the spread of coronavirus identified and sealed in Delhi and several other states, the Indian Council of Medical Research - the nodal body for the fight against the virus - has amped up testing in these areas. Now people present in the hotspots, whether connected to the patients or not, will be tested if they are showing symptoms of the disease for at least a week, the medical body said.</p><p>For the last 20 days, only five categories of people were being tested for coronavirus infection.</p><p>The list included symptomatic individuals who undertook international travel in last 14 days, symptomatic contacts of laboratory confirmed cases, symptomatic healthcare workers, patients with acute respiratory illness and asymptomatic direct and high-risk contacts of confirmed case.</p><p>Now ICMR has revised the strategy, allowing people with fever, cough, sore throat and runny nose in hotspot areas with seven days of illness to be tested using RT-PCR (Corona Confirmatory Tests).</p><div id=\"checked\" style=\"display: none\"><div id=\"adslotNativeVideo\" style=\"text-align:center; padding-bottom:20px;\"><script>googletag.cmd.push(function() { googletag.display(\"adslotNativeVideo\"); });</script></div></div><div class=\"reltd-main\"></div><p>The expansion of the scope of the tests comes as the government is considering whether to lift or extend the countrywide lockdown, which is scheduled to end on April 15. With the number of cases on the rise, may states have suggested an extension. But with twin pressures of the economy and the harvest season, there have also been suggestions of a phased lifting of the lockdown, keeping the hotspots of the disease sealed.</p><p>Medical experts in nations that have managed to keep the virus under control, have repeatedly underscored the importance of aggressive testing. South Korea has successfully conducted mass testing of their people, with drive though kiosks where swabs were taken and the results texted to the patient after six hours.</p><p>India, however, has not been able to procure enough testing kits. The ICMR has tested just 1.27 lakh samples till April 8, out of 133 crore population.</p><div class=\"cmt_btn\"><a class=\"btn_bm cmt-ac cmt-dn\" href=\"javascript:void(0);\"><span class=\"ndtv-cmnt-cnt\" style=\"display:none;\"></span> Comments </a></div></div>\n"
     ]
    }
   ],
   "source": [
    "from urllib.request import Request, urlopen\n",
    "from bs4 import BeautifulSoup as soup\n",
    "url = 'https://www.ndtv.com/india-news/coronavirus-testing-strategy-revised-in-india-ambit-widened-2209126?pfrom=home-topscroll'\n",
    "req = Request(url , headers={'User-Agent': 'Mozilla/5.0'})\n",
    "\n",
    "webpage = urlopen(req).read()\n",
    "page_soup = soup(webpage, \"html.parser\")\n",
    "container = page_soup.find(\"div\",{\"id\": \"ins_storybody\"})\n",
    "print(container)"
   ]
  },
  {
   "cell_type": "code",
   "execution_count": 101,
   "metadata": {},
   "outputs": [
    {
     "data": {
      "text/plain": [
       "'There have been over 5,000 coronavirus cases in India so far The \"hotspots\" for the spread of coronavirus identified and sealed in Delhi and several other states, the Indian Council of Medical Research - the nodal body for the fight against the virus - has amped up testing in these areas. Now people present in the hotspots, whether connected to the patients or not, will be tested if they are showing symptoms of the disease for at least a week, the medical body said. For the last 20 days, only five categories of people were being tested for coronavirus infection. The list included symptomatic individuals who undertook international travel in last 14 days, symptomatic contacts of laboratory confirmed cases, symptomatic healthcare workers, patients with acute respiratory illness and asymptomatic direct and high-risk contacts of confirmed case. Now ICMR has revised the strategy, allowing people with fever, cough, sore throat and runny nose in hotspot areas with seven days of illness to be tested using RT-PCR (Corona Confirmatory Tests). The expansion of the scope of the tests comes as the government is considering whether to lift or extend the countrywide lockdown, which is scheduled to end on April 15. With the number of cases on the rise, may states have suggested an extension. But with twin pressures of the economy and the harvest season, there have also been suggestions of a phased lifting of the lockdown, keeping the hotspots of the disease sealed. Medical experts in nations that have managed to keep the virus under control, have repeatedly underscored the importance of aggressive testing. South Korea has successfully conducted mass testing of their people, with drive though kiosks where swabs were taken and the results texted to the patient after six hours. India, however, has not been able to procure enough testing kits. The ICMR has tested just 1.27 lakh samples till April 8, out of 133 crore population.'"
      ]
     },
     "execution_count": 101,
     "metadata": {},
     "output_type": "execute_result"
    }
   ],
   "source": [
    "#text = \" \".join(map(lambda p: p.text, soup.find_all('li')))\n",
    "ps = container.findAll('p')\n",
    "text = \" \".join([ p.text for p in ps])\n",
    "text"
   ]
  },
  {
   "cell_type": "code",
   "execution_count": 102,
   "metadata": {
    "scrolled": true
   },
   "outputs": [
    {
     "data": {
      "text/plain": [
       "b'There have been over 5,000 coronavirus cases in India so far The \"hotspots\" for the spread of coronavirus identified and sealed in Delhi and several other states, the Indian Council of Medical Research - the nodal body for the fight against the virus - has amped up testing in these areas. Now people present in the hotspots, whether connected to the patients or not, will be tested if they are showing symptoms of the disease for at least a week, the medical body said. For the last 20 days, only five categories of people were being tested for coronavirus infection. The list included symptomatic individuals who undertook international travel in last 14 days, symptomatic contacts of laboratory confirmed cases, symptomatic healthcare workers, patients with acute respiratory illness and asymptomatic direct and high-risk contacts of confirmed case. Now ICMR has revised the strategy, allowing people with fever, cough, sore throat and runny nose in hotspot areas with seven days of illness to be tested using RT-PCR (Corona Confirmatory Tests). The expansion of the scope of the tests comes as the government is considering whether to lift or extend the countrywide lockdown, which is scheduled to end on April 15. With the number of cases on the rise, may states have suggested an extension. But with twin pressures of the economy and the harvest season, there have also been suggestions of a phased lifting of the lockdown, keeping the hotspots of the disease sealed. Medical experts in nations that have managed to keep the virus under control, have repeatedly underscored the importance of aggressive testing. South Korea has successfully conducted mass testing of their people, with drive though kiosks where swabs were taken and the results texted to the patient after six hours. India, however, has not been able to procure enough testing kits. The ICMR has tested just 1.27 lakh samples till April 8, out of 133 crore population.'"
      ]
     },
     "execution_count": 102,
     "metadata": {},
     "output_type": "execute_result"
    }
   ],
   "source": [
    "text.encode('ascii', 'ignore').decode('ascii').encode()"
   ]
  },
  {
   "cell_type": "code",
   "execution_count": 103,
   "metadata": {},
   "outputs": [
    {
     "name": "stderr",
     "output_type": "stream",
     "text": [
      "[nltk_data] Downloading package stopwords to\n",
      "[nltk_data]     C:\\Users\\Me\\AppData\\Roaming\\nltk_data...\n",
      "[nltk_data]   Package stopwords is already up-to-date!\n"
     ]
    },
    {
     "data": {
      "text/plain": [
       "True"
      ]
     },
     "execution_count": 103,
     "metadata": {},
     "output_type": "execute_result"
    }
   ],
   "source": [
    "from nltk.tokenize import sent_tokenize, word_tokenize\n",
    "from nltk.corpus import stopwords\n",
    "from string import punctuation\n",
    "import nltk\n",
    "nltk.download('stopwords')"
   ]
  },
  {
   "cell_type": "code",
   "execution_count": 104,
   "metadata": {},
   "outputs": [
    {
     "data": {
      "text/plain": [
       "['There have been over 5,000 coronavirus cases in India so far The \"hotspots\" for the spread of coronavirus identified and sealed in Delhi and several other states, the Indian Council of Medical Research - the nodal body for the fight against the virus - has amped up testing in these areas.',\n",
       " 'Now people present in the hotspots, whether connected to the patients or not, will be tested if they are showing symptoms of the disease for at least a week, the medical body said.',\n",
       " 'For the last 20 days, only five categories of people were being tested for coronavirus infection.',\n",
       " 'The list included symptomatic individuals who undertook international travel in last 14 days, symptomatic contacts of laboratory confirmed cases, symptomatic healthcare workers, patients with acute respiratory illness and asymptomatic direct and high-risk contacts of confirmed case.',\n",
       " 'Now ICMR has revised the strategy, allowing people with fever, cough, sore throat and runny nose in hotspot areas with seven days of illness to be tested using RT-PCR (Corona Confirmatory Tests).',\n",
       " 'The expansion of the scope of the tests comes as the government is considering whether to lift or extend the countrywide lockdown, which is scheduled to end on April 15.',\n",
       " 'With the number of cases on the rise, may states have suggested an extension.',\n",
       " 'But with twin pressures of the economy and the harvest season, there have also been suggestions of a phased lifting of the lockdown, keeping the hotspots of the disease sealed.',\n",
       " 'Medical experts in nations that have managed to keep the virus under control, have repeatedly underscored the importance of aggressive testing.',\n",
       " 'South Korea has successfully conducted mass testing of their people, with drive though kiosks where swabs were taken and the results texted to the patient after six hours.',\n",
       " 'India, however, has not been able to procure enough testing kits.',\n",
       " 'The ICMR has tested just 1.27 lakh samples till April 8, out of 133 crore population.']"
      ]
     },
     "execution_count": 104,
     "metadata": {},
     "output_type": "execute_result"
    }
   ],
   "source": [
    "sents = sent_tokenize(text)\n",
    "sents"
   ]
  },
  {
   "cell_type": "code",
   "execution_count": 107,
   "metadata": {},
   "outputs": [],
   "source": [
    "allStopWords = set( stopwords.words('english') + list(punctuation))\n"
   ]
  },
  {
   "cell_type": "code",
   "execution_count": 108,
   "metadata": {},
   "outputs": [
    {
     "data": {
      "text/plain": [
       "['5,000',\n",
       " 'coronavirus',\n",
       " 'cases',\n",
       " 'india',\n",
       " 'hotspots',\n",
       " 'spread',\n",
       " 'coronavirus',\n",
       " 'identified',\n",
       " 'sealed',\n",
       " 'delhi',\n",
       " 'several',\n",
       " 'states',\n",
       " 'indian',\n",
       " 'council',\n",
       " 'medical',\n",
       " 'research',\n",
       " 'nodal',\n",
       " 'body',\n",
       " 'fight',\n",
       " 'virus',\n",
       " 'amped',\n",
       " 'testing',\n",
       " 'areas',\n",
       " 'people',\n",
       " 'present',\n",
       " 'hotspots',\n",
       " 'whether',\n",
       " 'connected',\n",
       " 'patients',\n",
       " 'tested',\n",
       " 'showing',\n",
       " 'symptoms',\n",
       " 'disease',\n",
       " 'least',\n",
       " 'week',\n",
       " 'medical',\n",
       " 'body',\n",
       " 'said',\n",
       " 'last',\n",
       " 'days',\n",
       " 'five',\n",
       " 'categories',\n",
       " 'people',\n",
       " 'tested',\n",
       " 'coronavirus',\n",
       " 'infection',\n",
       " 'list',\n",
       " 'included',\n",
       " 'symptomatic',\n",
       " 'individuals',\n",
       " 'undertook',\n",
       " 'international',\n",
       " 'travel',\n",
       " 'last',\n",
       " 'days',\n",
       " 'symptomatic',\n",
       " 'contacts',\n",
       " 'laboratory',\n",
       " 'confirmed',\n",
       " 'cases',\n",
       " 'symptomatic',\n",
       " 'healthcare',\n",
       " 'workers',\n",
       " 'patients',\n",
       " 'acute',\n",
       " 'respiratory',\n",
       " 'illness',\n",
       " 'asymptomatic',\n",
       " 'direct',\n",
       " 'high-risk',\n",
       " 'contacts',\n",
       " 'confirmed',\n",
       " 'case',\n",
       " 'icmr',\n",
       " 'revised',\n",
       " 'strategy',\n",
       " 'allowing',\n",
       " 'people',\n",
       " 'fever',\n",
       " 'cough',\n",
       " 'sore',\n",
       " 'throat',\n",
       " 'runny',\n",
       " 'nose',\n",
       " 'hotspot',\n",
       " 'areas',\n",
       " 'seven',\n",
       " 'days',\n",
       " 'illness',\n",
       " 'tested',\n",
       " 'using',\n",
       " 'rt-pcr',\n",
       " 'corona',\n",
       " 'confirmatory',\n",
       " 'tests',\n",
       " 'expansion',\n",
       " 'scope',\n",
       " 'tests',\n",
       " 'comes',\n",
       " 'government',\n",
       " 'considering',\n",
       " 'whether',\n",
       " 'lift',\n",
       " 'extend',\n",
       " 'countrywide',\n",
       " 'lockdown',\n",
       " 'scheduled',\n",
       " 'april',\n",
       " 'number',\n",
       " 'cases',\n",
       " 'rise',\n",
       " 'states',\n",
       " 'suggested',\n",
       " 'extension',\n",
       " 'twin',\n",
       " 'pressures',\n",
       " 'economy',\n",
       " 'harvest',\n",
       " 'season',\n",
       " 'also',\n",
       " 'suggestions',\n",
       " 'phased',\n",
       " 'lifting',\n",
       " 'lockdown',\n",
       " 'keeping',\n",
       " 'hotspots',\n",
       " 'disease',\n",
       " 'sealed',\n",
       " 'medical',\n",
       " 'experts',\n",
       " 'nations',\n",
       " 'managed',\n",
       " 'keep',\n",
       " 'virus',\n",
       " 'control',\n",
       " 'repeatedly',\n",
       " 'underscored',\n",
       " 'importance',\n",
       " 'aggressive',\n",
       " 'testing',\n",
       " 'south',\n",
       " 'korea',\n",
       " 'successfully',\n",
       " 'conducted',\n",
       " 'mass',\n",
       " 'testing',\n",
       " 'people',\n",
       " 'drive',\n",
       " 'though',\n",
       " 'kiosks',\n",
       " 'swabs',\n",
       " 'taken',\n",
       " 'results',\n",
       " 'texted',\n",
       " 'patient',\n",
       " 'hours',\n",
       " 'india',\n",
       " 'however',\n",
       " 'able',\n",
       " 'procure',\n",
       " 'enough',\n",
       " 'testing',\n",
       " 'kits',\n",
       " 'icmr',\n",
       " 'tested',\n",
       " '1.27',\n",
       " 'lakh',\n",
       " 'samples',\n",
       " 'till',\n",
       " 'april',\n",
       " 'crore',\n",
       " 'population']"
      ]
     },
     "execution_count": 108,
     "metadata": {},
     "output_type": "execute_result"
    }
   ],
   "source": [
    "word_sent = [ word for word in word_sent if word not in allStopWords]\n",
    "word_sent = [ word for word in word_sent if len(word)>3]\n",
    "word_sent"
   ]
  },
  {
   "cell_type": "code",
   "execution_count": 109,
   "metadata": {},
   "outputs": [
    {
     "data": {
      "text/plain": [
       "FreqDist({'testing': 4, 'people': 4, 'tested': 4, 'coronavirus': 3, 'cases': 3, 'hotspots': 3, 'medical': 3, 'days': 3, 'symptomatic': 3, 'india': 2, ...})"
      ]
     },
     "execution_count": 109,
     "metadata": {},
     "output_type": "execute_result"
    }
   ],
   "source": [
    "from nltk.probability import FreqDist\n",
    "freq = FreqDist(word_sent)\n",
    "freq"
   ]
  },
  {
   "cell_type": "code",
   "execution_count": 110,
   "metadata": {},
   "outputs": [],
   "source": [
    "from heapq import nlargest"
   ]
  },
  {
   "cell_type": "code",
   "execution_count": 111,
   "metadata": {},
   "outputs": [
    {
     "data": {
      "text/plain": [
       "['testing',\n",
       " 'people',\n",
       " 'tested',\n",
       " 'coronavirus',\n",
       " 'cases',\n",
       " 'hotspots',\n",
       " 'medical',\n",
       " 'days',\n",
       " 'symptomatic',\n",
       " 'india']"
      ]
     },
     "execution_count": 111,
     "metadata": {},
     "output_type": "execute_result"
    }
   ],
   "source": [
    "nlargest(10, freq, key = freq.get)"
   ]
  },
  {
   "cell_type": "code",
   "execution_count": 112,
   "metadata": {},
   "outputs": [],
   "source": [
    "from collections  import defaultdict"
   ]
  },
  {
   "cell_type": "code",
   "execution_count": 113,
   "metadata": {},
   "outputs": [],
   "source": [
    "ranking = defaultdict(int)"
   ]
  },
  {
   "cell_type": "code",
   "execution_count": 114,
   "metadata": {},
   "outputs": [
    {
     "data": {
      "text/plain": [
       "defaultdict(int,\n",
       "            {0: 42,\n",
       "             1: 29,\n",
       "             2: 19,\n",
       "             3: 44,\n",
       "             4: 34,\n",
       "             5: 17,\n",
       "             6: 9,\n",
       "             7: 19,\n",
       "             8: 18,\n",
       "             9: 22,\n",
       "             10: 11,\n",
       "             11: 14})"
      ]
     },
     "execution_count": 114,
     "metadata": {},
     "output_type": "execute_result"
    }
   ],
   "source": [
    "for i, sent in enumerate(sents):\n",
    "    for w in word_tokenize(sent.lower()):\n",
    "        if w in freq:\n",
    "            ranking[i] += freq[w]\n",
    "ranking"
   ]
  },
  {
   "cell_type": "code",
   "execution_count": 116,
   "metadata": {},
   "outputs": [],
   "source": [
    "sents_ids = nlargest(4, ranking, key=ranking.get)"
   ]
  },
  {
   "cell_type": "code",
   "execution_count": 118,
   "metadata": {},
   "outputs": [
    {
     "data": {
      "text/plain": [
       "[3, 0, 4, 1]"
      ]
     },
     "execution_count": 118,
     "metadata": {},
     "output_type": "execute_result"
    }
   ],
   "source": [
    "sents_ids"
   ]
  },
  {
   "cell_type": "code",
   "execution_count": 119,
   "metadata": {},
   "outputs": [
    {
     "data": {
      "text/plain": [
       "['There have been over 5,000 coronavirus cases in India so far The \"hotspots\" for the spread of coronavirus identified and sealed in Delhi and several other states, the Indian Council of Medical Research - the nodal body for the fight against the virus - has amped up testing in these areas.',\n",
       " 'Now people present in the hotspots, whether connected to the patients or not, will be tested if they are showing symptoms of the disease for at least a week, the medical body said.',\n",
       " 'The list included symptomatic individuals who undertook international travel in last 14 days, symptomatic contacts of laboratory confirmed cases, symptomatic healthcare workers, patients with acute respiratory illness and asymptomatic direct and high-risk contacts of confirmed case.',\n",
       " 'Now ICMR has revised the strategy, allowing people with fever, cough, sore throat and runny nose in hotspot areas with seven days of illness to be tested using RT-PCR (Corona Confirmatory Tests).']"
      ]
     },
     "execution_count": 119,
     "metadata": {},
     "output_type": "execute_result"
    }
   ],
   "source": [
    "[sents[j] for j in sorted(sents_ids)]"
   ]
  },
  {
   "cell_type": "code",
   "execution_count": 120,
   "metadata": {},
   "outputs": [
    {
     "data": {
      "text/plain": [
       "8"
      ]
     },
     "execution_count": 120,
     "metadata": {},
     "output_type": "execute_result"
    }
   ],
   "source": [
    "len(ps)"
   ]
  },
  {
   "cell_type": "code",
   "execution_count": null,
   "metadata": {},
   "outputs": [],
   "source": []
  }
 ],
 "metadata": {
  "kernelspec": {
   "display_name": "Python 3",
   "language": "python",
   "name": "python3"
  },
  "language_info": {
   "codemirror_mode": {
    "name": "ipython",
    "version": 3
   },
   "file_extension": ".py",
   "mimetype": "text/x-python",
   "name": "python",
   "nbconvert_exporter": "python",
   "pygments_lexer": "ipython3",
   "version": "3.7.4"
  }
 },
 "nbformat": 4,
 "nbformat_minor": 2
}
